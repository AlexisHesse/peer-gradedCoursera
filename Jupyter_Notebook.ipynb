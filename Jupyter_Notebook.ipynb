{
 "cells": [
  {
   "cell_type": "markdown",
   "id": "5226c52e-0921-4386-8472-7d24491fe3f7",
   "metadata": {},
   "source": [
    "Exercise 2 - Create a markdown cell with the title of the notebook. (1 pt)"
   ]
  },
  {
   "cell_type": "markdown",
   "id": "2e1a0283-a714-4c52-a4be-275afd7f98b2",
   "metadata": {},
   "source": [
    "# Data Science Tools and Ecosystem"
   ]
  },
  {
   "cell_type": "markdown",
   "id": "5387c250-ceb3-4b0a-9d49-b312b330f5f4",
   "metadata": {},
   "source": [
    "Exercise 3 - Create a markdown cell for an introduction. (1 pt)"
   ]
  },
  {
   "cell_type": "markdown",
   "id": "e66605b0-4902-4dbc-bb82-c16dc148e47e",
   "metadata": {
    "jp-MarkdownHeadingCollapsed": true
   },
   "source": [
    "In this notebook, Data Science Tools and Ecosystem are summarized."
   ]
  },
  {
   "cell_type": "markdown",
   "id": "ff5ae41e-b81e-4db8-9208-765a85689566",
   "metadata": {},
   "source": [
    "Exercise 10 -Insert a markdown cell to list Objectives. (3 pts)"
   ]
  },
  {
   "cell_type": "markdown",
   "id": "589c7742-00a7-4e68-a15a-7e154c96fd99",
   "metadata": {},
   "source": [
    "**Subjects that this book covers:**\n",
    "- List of popular data science languages\n",
    "- Most used libraries\n",
    "- Creating a table using Python"
   ]
  },
  {
   "cell_type": "markdown",
   "id": "800ac76e-1ceb-453b-9247-100c2f10af9e",
   "metadata": {},
   "source": [
    "Exercise 4 - Create a markdown cell to list data science languages. (3 pts)"
   ]
  },
  {
   "cell_type": "markdown",
   "id": "d4af3721-7b9c-4a70-b8e6-9f70f1718e9c",
   "metadata": {},
   "source": [
    "Some of the popular languages that Data Scientists use are:\n",
    "1. Python\n",
    "2. R\n",
    "3. Julia"
   ]
  },
  {
   "cell_type": "markdown",
   "id": "0f303d6c-750c-47e2-9edb-f29ec709ec80",
   "metadata": {},
   "source": [
    "Exercise 5 - Create a markdown cell to list data science libraries. (3 pts)"
   ]
  },
  {
   "cell_type": "markdown",
   "id": "6324eea5-6aba-4377-82c1-c81aa13cc0ca",
   "metadata": {},
   "source": [
    "Some of the commonly used libraries used by Data Scientists include:\n",
    "1. matplotlib\n",
    "2. numPy\n",
    "3. Pandas"
   ]
  },
  {
   "cell_type": "markdown",
   "id": "137313d6-d1cf-4130-abc2-145b8e4543dc",
   "metadata": {},
   "source": [
    "Exercise 6 - Create a markdown cell with a table of Data Science tools. (3 pts)\r\n"
   ]
  },
  {
   "cell_type": "markdown",
   "id": "73b368c2-5262-4cbe-b753-d77a4e7f6744",
   "metadata": {},
   "source": [
    "| Data Science Tools |\n",
    "|--|\n",
    "| Data Lab |\n",
    "| Jupyter Lab|\n",
    "| Jupyter Notebooks |"
   ]
  },
  {
   "cell_type": "markdown",
   "id": "0a52ed02-be90-48f1-bf6c-123184f9f5ba",
   "metadata": {},
   "source": [
    "Exercise 7 - Create a markdown cell introducing arithmetic expression examples. (1 pt)\r\n"
   ]
  },
  {
   "cell_type": "markdown",
   "id": "e441008d-df46-44dc-9879-41fac75b0432",
   "metadata": {},
   "source": [
    "### Below are a few examples of evaluating arithmetic expressions in Python"
   ]
  },
  {
   "cell_type": "markdown",
   "id": "ecbd49ff-e18b-4f46-9a05-1b236c07080c",
   "metadata": {},
   "source": [
    "Exercise 8 - Create a code cell to multiply and add numbers. (2 pts)\r\n"
   ]
  },
  {
   "cell_type": "code",
   "execution_count": 10,
   "id": "d293000a-e57a-4584-977d-0fe445549f28",
   "metadata": {},
   "outputs": [
    {
     "data": {
      "text/plain": [
       "17"
      ]
     },
     "execution_count": 10,
     "metadata": {},
     "output_type": "execute_result"
    }
   ],
   "source": [
    "# This a simple arithmetic expression to mutiply then add integers\n",
    "(3*4)+5"
   ]
  },
  {
   "cell_type": "markdown",
   "id": "f9787aac-d580-4024-8376-a81d454990c3",
   "metadata": {},
   "source": [
    "Exercise 9 - Create a code cell to convert minutes to hours. (2 pts)\r\n",
    "\n"
   ]
  },
  {
   "cell_type": "code",
   "execution_count": 12,
   "id": "8b791d14-1084-41df-b751-84e7b73172a3",
   "metadata": {},
   "outputs": [
    {
     "data": {
      "text/plain": [
       "3.3333333333333335"
      ]
     },
     "execution_count": 12,
     "metadata": {},
     "output_type": "execute_result"
    }
   ],
   "source": [
    "# This will convert 200 minutes to hours by diving by 60\n",
    "200/60"
   ]
  },
  {
   "cell_type": "markdown",
   "id": "cb27c784-61d4-4075-835c-b8fd04ae6c1c",
   "metadata": {},
   "source": [
    "Exercise 11 - Create a markdown cell to indicate the Author’s name. (2 pts)\r\n",
    "\n"
   ]
  },
  {
   "cell_type": "markdown",
   "id": "e7505241-eb16-46a1-89b6-9e31e1e4def9",
   "metadata": {},
   "source": [
    "## Author\n",
    "Fred Hesse"
   ]
  }
 ],
 "metadata": {
  "kernelspec": {
   "display_name": "Python 3 (ipykernel)",
   "language": "python",
   "name": "python3"
  },
  "language_info": {
   "codemirror_mode": {
    "name": "ipython",
    "version": 3
   },
   "file_extension": ".py",
   "mimetype": "text/x-python",
   "name": "python",
   "nbconvert_exporter": "python",
   "pygments_lexer": "ipython3",
   "version": "3.12.4"
  }
 },
 "nbformat": 4,
 "nbformat_minor": 5
}
